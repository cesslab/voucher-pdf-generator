{
 "cells": [
  {
   "cell_type": "code",
   "execution_count": 26,
   "metadata": {},
   "outputs": [],
   "source": [
    "import math\n",
    "from reportlab.lib.pagesizes import letter\n",
    "from reportlab.pdfgen import canvas\n",
    "\n",
    "width, height = letter\n",
    "c = canvas.Canvas('grid2.pdf', pagesize=letter)\n",
    "\n",
    "\n",
    "row = row_step = math.floor(height/50)\n",
    "col = col_step = math.floor(width/30)\n",
    "c.setLineWidth(.3)\n",
    "for y in range(1,51):\n",
    "    # row\n",
    "    c.drawCentredString(10,y*row_step-3, str(y))\n",
    "    c.line(20, y*row_step, width, y*row_step)\n",
    "    # column\n",
    "    c.drawCentredString(y*col_step, height-15, str(y))\n",
    "    c.line(y*col_step, 0, y*col_step, height-20)\n",
    "    \n",
    "c.save()"
   ]
  },
  {
   "cell_type": "code",
   "execution_count": null,
   "metadata": {},
   "outputs": [],
   "source": []
  }
 ],
 "metadata": {
  "kernelspec": {
   "display_name": "Python 3",
   "language": "python",
   "name": "python3"
  },
  "language_info": {
   "codemirror_mode": {
    "name": "ipython",
    "version": 3
   },
   "file_extension": ".py",
   "mimetype": "text/x-python",
   "name": "python",
   "nbconvert_exporter": "python",
   "pygments_lexer": "ipython3",
   "version": "3.7.0"
  }
 },
 "nbformat": 4,
 "nbformat_minor": 2
}
